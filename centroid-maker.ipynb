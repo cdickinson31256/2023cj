{
 "cells": [
  {
   "cell_type": "code",
   "execution_count": 3,
   "id": "7b0b2aa9",
   "metadata": {},
   "outputs": [],
   "source": [
    "from astropy.io import fits\n",
    "import matplotlib.pyplot as plt\n",
    "from photutils.centroids import centroid_sources\n",
    "from photutils.centroids import (centroid_1dg, centroid_2dg, centroid_com, centroid_quadratic)\n",
    "import sep"
   ]
  },
  {
   "cell_type": "code",
   "execution_count": 11,
   "id": "9021c31c",
   "metadata": {},
   "outputs": [],
   "source": [
    "# function to find the exact coords of the sn using a guess of where it is\n",
    "# also plots an img with a marker on it just cause lol\n",
    "# boxsize is size of the box for the img it generates\n",
    "# img has to be in quotes lmao\n",
    "# guess_x, guess_y is the approx location of the sn in the post expl img (in pxls)\n",
    "\n",
    "# test later w/other images lmaoooooooo\n",
    "# also too lazy to generalize boxsize since i tried it with another size and i got a meh\n",
    "def coord_loc(fits_img, guess_x, guess_y, boxsize):\n",
    "    test = fits.open(fits_img)\n",
    "    data = test[1].data\n",
    "    fig, ax = plt.subplots(1, 1, figsize=(5,5))\n",
    "    ax.imshow(data[round(guess_y-boxsize/2):round(guess_y+boxsize/2), #zooms in 250x!\n",
    "                   round(guess_x-boxsize/2):round(guess_x+boxsize/2)], origin='lower', interpolation='nearest') \n",
    "    x, y = centroid_sources(data, guess_x, guess_y, box_size=21, centroid_func=centroid_com)\n",
    "    plt.plot(x/250, y/250, color= \"red\" , marker= \"+\", ms=15, mew=2.0)\n",
    "    print(x)  \n",
    "    print(y)\n",
    "    test.close()"
   ]
  },
  {
   "cell_type": "code",
   "execution_count": 13,
   "id": "a91183ba",
   "metadata": {},
   "outputs": [
    {
     "name": "stdout",
     "output_type": "stream",
     "text": [
      "[1373.76665144]\n",
      "[2427.96649758]\n"
     ]
    },
    {
     "data": {
      "image/png": "[encoded data removed]",
      "text/plain": [
       "<Figure size 500x500 with 1 Axes>"
      ]
     },
     "metadata": {},
     "output_type": "display_data"
    }
   ],
   "source": [
    "coord_loc(\"iey918020_drc.fits\", 1376, 2428, 20)"
   ]
  },
  {
   "cell_type": "code",
   "execution_count": null,
   "id": "742a9f23",
   "metadata": {},
   "outputs": [],
   "source": []
  },
  {
   "cell_type": "code",
   "execution_count": null,
   "id": "6e6dc9f7",
   "metadata": {},
   "outputs": [],
   "source": []
  }
 ],
 "metadata": {
  "kernelspec": {
   "display_name": "Python 3 (ipykernel)",
   "language": "python",
   "name": "python3"
  },
  "language_info": {
   "codemirror_mode": {
    "name": "ipython",
    "version": 3
   },
   "file_extension": ".py",
   "mimetype": "text/x-python",
   "name": "python",
   "nbconvert_exporter": "python",
   "pygments_lexer": "ipython3",
   "version": "3.9.13"
  }
 },
 "nbformat": 4,
 "nbformat_minor": 5
}

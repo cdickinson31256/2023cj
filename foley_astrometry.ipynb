{
 "cells": [
  {
   "cell_type": "code",
   "execution_count": 1,
   "metadata": {},
   "outputs": [],
   "source": [
    "import numpy as np\n",
    "import pandas as pd\n",
    "import matplotlib.pyplot as plt\n",
    "from scipy.optimize import least_squares\n",
    "from numpy.polynomial import legendre\n",
    "from astropy.io import fits\n",
    "from matplotlib.colors import LogNorm\n",
    "from photutils.aperture import CircularAperture as ca"
   ]
  },
  {
   "cell_type": "code",
   "execution_count": 2,
   "metadata": {},
   "outputs": [],
   "source": [
    "def read_data_file(filename):\n",
    "    data = np.loadtxt(filename, delimiter=',')\n",
    "    x_in = data[:, 0]\n",
    "    y_in = data[:, 1]\n",
    "    x_out = data[:, 2]\n",
    "    y_out = data[:, 3]\n",
    "    return x_in, y_in, x_out, y_out"
   ]
  },
  {
   "cell_type": "code",
   "execution_count": 3,
   "metadata": {},
   "outputs": [],
   "source": [
    "def custom_legendre(x_coeffs, y_coeffs, x, y, order):\n",
    "    import numpy as np\n",
    "    from numpy.polynomial import legendre\n",
    "    x_terms = legendre.legval2d(x, y, x_coeffs)\n",
    "    y_terms = legendre.legval2d(x, y, y_coeffs)\n",
    "    return np.array(x_terms), np.array(y_terms)"
   ]
  },
  {
   "cell_type": "code",
   "execution_count": 4,
   "metadata": {},
   "outputs": [],
   "source": [
    "def residual(coeffs, x_in, y_in, x_out, y_out, order):\n",
    "    coeffs = coeffs.reshape(2, order, order)\n",
    "\n",
    "    x_coeffs = coeffs[0, :, :]\n",
    "    y_coeffs = coeffs[1, :, :]\n",
    "    fitted_x_terms, fitted_y_terms = custom_legendre(x_coeffs, y_coeffs, x_in, y_in, order)\n",
    "    residuals = np.concatenate((fitted_x_terms - x_out, fitted_y_terms - y_out))\n",
    "    return residuals"
   ]
  },
  {
   "cell_type": "code",
   "execution_count": 5,
   "metadata": {
    "scrolled": true
   },
   "outputs": [
    {
     "name": "stdout",
     "output_type": "stream",
     "text": [
      "Iteration 1\n",
      "RMS of the transformation: 2.390815208716261\n",
      "Number of outliers removed: 2\n",
      "Coefficients: [[[ 1.70629174e+03 -3.41486219e-01 -1.54711695e-05]\n",
      "  [-8.80904434e-01 -9.22682365e-05  3.52923605e-08]\n",
      "  [-1.17626291e-05  3.27223148e-08 -1.25536023e-11]]\n",
      "\n",
      " [[ 1.15238232e+03 -9.30788604e-01  8.63054583e-06]\n",
      "  [ 3.70383996e-01  4.65359588e-05 -2.38298346e-08]\n",
      "  [ 5.31705771e-06 -1.92177807e-08  9.49009866e-12]]]\n",
      "Iteration 2\n",
      "RMS of the transformation: 0.6640118688349077\n",
      "Number of outliers removed: 5\n",
      "Coefficients: [[[ 1.72001250e+03 -3.82191153e-01  5.83542551e-07]\n",
      "  [-9.10890126e-01 -3.10274676e-06 -1.44684916e-10]\n",
      "  [-1.06118763e-06  1.37193828e-09 -7.72059984e-14]]\n",
      "\n",
      " [[ 1.14202750e+03 -9.01714693e-01 -3.95057764e-06]\n",
      "  [ 3.96688543e-01 -3.07210410e-05  1.04499230e-08]\n",
      "  [-5.14322274e-06  1.12941060e-08 -3.96988628e-12]]]\n",
      "Iteration 3\n",
      "RMS of the transformation: 0.42070336002841796\n",
      "Number of outliers removed: 7\n",
      "Coefficients: [[[ 1.72140002e+03 -3.85881369e-01  2.08562261e-06]\n",
      "  [-9.15413197e-01  9.42807759e-06 -5.36109162e-09]\n",
      "  [ 8.77181164e-07 -4.09641209e-09  2.22345676e-12]]\n",
      "\n",
      " [[ 1.14354194e+03 -9.06080956e-01 -2.08197128e-06]\n",
      "  [ 3.91711171e-01 -1.57837830e-05  3.89159093e-09]\n",
      "  [-2.95129710e-06  4.67895322e-09 -1.04932514e-12]]]\n",
      "Iteration 4\n",
      "RMS of the transformation: 0.24587127089515373\n",
      "Number of outliers removed: 3\n",
      "Coefficients: [[[ 1.72108350e+03 -3.84764422e-01  1.38409343e-06]\n",
      "  [-9.13881773e-01  3.98358421e-06 -2.56263026e-09]\n",
      "  [ 2.43209079e-08 -1.31521975e-09  9.04944002e-13]]\n",
      "\n",
      " [[ 1.14430660e+03 -9.06235672e-01 -2.55748004e-06]\n",
      "  [ 3.91276591e-01 -1.89166729e-05  6.36097483e-09]\n",
      "  [-3.21181487e-06  6.76973961e-09 -2.29587891e-12]]]\n",
      "Iteration 5\n",
      "RMS of the transformation: 0.1922433159432408\n",
      "Number of outliers removed: 0\n",
      "Coefficients: [[[ 1.72121192e+03 -3.85010524e-01  1.42419081e-06]\n",
      "  [-9.14276457e-01  4.78073835e-06 -2.70089688e-09]\n",
      "  [ 1.61517599e-07 -1.58611942e-09  9.43132692e-13]]\n",
      "\n",
      " [[ 1.14483471e+03 -9.07208917e-01 -2.26635354e-06]\n",
      "  [ 3.90074131e-01 -1.67836160e-05  5.74437559e-09]\n",
      "  [-2.82494888e-06  6.09380244e-09 -2.10307861e-12]]]\n"
     ]
    }
   ],
   "source": [
    "input_filename = '2023cj.in'\n",
    "output_filename = '2023cj.out'\n",
    "\n",
    "# Read input data\n",
    "x_in, y_in, x_out, y_out = read_data_file(input_filename)\n",
    "\n",
    "# Parameters\n",
    "order = 3\n",
    "max_iters = 10\n",
    "outlier_threshold = 3.0\n",
    "\n",
    "for iteration in range(max_iters):\n",
    "    # Perform outlier rejection using least squares optimization\n",
    "    initial_coeffs = np.ones(2 * order * order) # Coefficients for both x and y terms\n",
    "    result = least_squares(residual, initial_coeffs, args=(x_in, y_in, x_out, y_out, order))\n",
    "    final_coeffs = result.x\n",
    "    final_coeffs = final_coeffs.reshape(2, order, order)\n",
    "\n",
    "    final_x_coeffs = final_coeffs[0, :, :]\n",
    "    final_y_coeffs = final_coeffs[1, :, :]\n",
    "\n",
    "    \n",
    "    # Calculate residuals using the final coefficients and fitted values\n",
    "    fitted_x, fitted_y = custom_legendre(final_x_coeffs, final_y_coeffs, x_in, y_in, order)\n",
    "    residuals_x = fitted_x - x_out\n",
    "    residuals_y = fitted_y - y_out\n",
    "\n",
    "    # Calculate RMS of the transformation\n",
    "    combined_residuals = np.sqrt(residuals_x**2 + residuals_y**2)\n",
    "    rms = np.sqrt(np.mean(combined_residuals ** 2))\n",
    "\n",
    "    # Count and display number of outliers removed\n",
    "    num_outliers_removed = np.sum(combined_residuals >= outlier_threshold * rms)\n",
    "\n",
    "    # Print iteration details\n",
    "    print(f\"Iteration {iteration+1}\")\n",
    "    print(f\"RMS of the transformation: {rms}\")\n",
    "    print(\"Number of outliers removed:\", num_outliers_removed)\n",
    "    print(\"Coefficients:\", final_coeffs)\n",
    "\n",
    "    # Break the loop if no outliers were removed\n",
    "    if num_outliers_removed == 0:\n",
    "        break\n",
    "\n",
    "    # Update the data for the next iteration\n",
    "    x_in = x_in[combined_residuals < outlier_threshold * rms]\n",
    "    y_in = y_in[combined_residuals < outlier_threshold * rms]\n",
    "    x_out = x_out[combined_residuals < outlier_threshold * rms]\n",
    "    y_out = y_out[combined_residuals < outlier_threshold * rms]"
   ]
  },
  {
   "cell_type": "code",
   "execution_count": 9,
   "metadata": {
    "scrolled": false
   },
   "outputs": [
    {
     "data": {
      "image/png": "[encoded data removed]",
      "text/plain": [
       "<Figure size 864x432 with 2 Axes>"
      ]
     },
     "metadata": {
      "needs_background": "light"
     },
     "output_type": "display_data"
    }
   ],
   "source": [
    "# Plot residuals as functions of x_in and y_in\n",
    "plt.figure(figsize=(12, 6))\n",
    "\n",
    "plt.subplot(1, 2, 1)\n",
    "plt.scatter(x_in, residuals_x, c='b', marker='o', label='x_out Residuals')\n",
    "plt.axhline(y=0, color='r', linestyle='--', label='Zero Residual')\n",
    "plt.xlabel('x_in')\n",
    "plt.ylabel('x_out Residuals')\n",
    "plt.title('Residuals of x_out as a Function of x_in')\n",
    "plt.legend()\n",
    "\n",
    "plt.subplot(1, 2, 2)\n",
    "plt.scatter(y_in, residuals_y, c='g', marker='s', label='y_out Residuals')\n",
    "plt.axhline(y=0, color='r', linestyle='--', label='Zero Residual')\n",
    "plt.xlabel('y_in')\n",
    "plt.ylabel('y_out Residuals')\n",
    "plt.title('Residuals of y_out as a Function of y_in')\n",
    "plt.legend()\n",
    "plt.savefig('residuals_x-out_y-out.png', dpi = 500, format = 'png')\n",
    "\n",
    "plt.tight_layout()\n",
    "plt.show()"
   ]
  },
  {
   "cell_type": "code",
   "execution_count": null,
   "metadata": {},
   "outputs": [],
   "source": [
    "for i in range(len(x_in)):\n",
    "    print(x_in[i], y_in[i], residuals_x[i], residuals_y[i])"
   ]
  },
  {
   "cell_type": "code",
   "execution_count": null,
   "metadata": {},
   "outputs": [],
   "source": [
    "print(len(x_in))"
   ]
  },
  {
   "cell_type": "code",
   "execution_count": null,
   "metadata": {},
   "outputs": [],
   "source": [
    "# Write retained points to a file\n",
    "data = np.column_stack((x_in, y_in, x_out, y_out))  # Stack input and output coordinates\n",
    "np.savetxt(output_filename, data, delimiter=',', header=\"x_in,y_in,x_out,y_out\", comments='')"
   ]
  },
  {
   "cell_type": "code",
   "execution_count": null,
   "metadata": {},
   "outputs": [],
   "source": [
    "#SN in = 813.68102 789.18635\n",
    "#SN out = 719.3415020310174 778.6999148972727\n",
    "sn_pos = [751.134,750.004]\n",
    "sn_out = custom_legendre(final_x_coeffs, final_y_coeffs, sn_pos[0], sn_pos[1], order)\n",
    "print(sn_out)"
   ]
  },
  {
   "cell_type": "code",
   "execution_count": null,
   "metadata": {},
   "outputs": [],
   "source": [
    "# SN Pos in ra/dec\n",
    "# RA: 14:06:32.5593\n",
    "# Dec: -5:27:06.268"
   ]
  },
  {
   "cell_type": "code",
   "execution_count": null,
   "metadata": {},
   "outputs": [],
   "source": [
    "# Plotting the Position\n",
    "pre_x, pre_y = 747.69491088, 749.67102569\n",
    "pre_ex = fits.open('wfc3.f350lp.ref_0001.drz_cropped.fits')\n",
    "pre_data = pre_ex[0]\n",
    "img1 = pre_data.data\n",
    "# zoom = img1[]\n",
    "\n",
    "pos1 = np.transpose((sn_out))\n",
    "aps1 = ca(pos1, r = 5.0)\n",
    "\n",
    "plt.imshow(img1, cmap = 'Greys', origin = 'lower', norm = LogNorm(), interpolation = 'nearest')\n",
    "aps1.plot(color = 'blue', lw = 1.0, alpha = 1.0)\n",
    "plt.xlim(720,780)\n",
    "plt.ylim(720,780)\n",
    "plt.savefig('wfc3.f350lp.ref_0001.drz_cropped_sn_source.png', dpi = 500, format = 'png')"
   ]
  },
  {
   "cell_type": "code",
   "execution_count": null,
   "metadata": {},
   "outputs": [],
   "source": []
  }
 ],
 "metadata": {
  "kernelspec": {
   "display_name": "Python 3",
   "language": "python",
   "name": "python3"
  },
  "language_info": {
   "codemirror_mode": {
    "name": "ipython",
    "version": 3
   },
   "file_extension": ".py",
   "mimetype": "text/x-python",
   "name": "python",
   "nbconvert_exporter": "python",
   "pygments_lexer": "ipython3",
   "version": "3.8.5"
  }
 },
 "nbformat": 4,
 "nbformat_minor": 5
}

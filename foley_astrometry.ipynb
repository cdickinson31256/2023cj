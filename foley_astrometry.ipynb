{
 "cells": [
  {
   "cell_type": "code",
   "execution_count": 1,
   "metadata": {},
   "outputs": [],
   "source": [
    "import numpy as np\n",
    "import pandas as pd\n",
    "import matplotlib.pyplot as plt\n",
    "from scipy.optimize import least_squares\n",
    "from numpy.polynomial import legendre\n",
    "from astropy.io import fits\n",
    "from matplotlib.colors import LogNorm\n",
    "from photutils.aperture import CircularAperture as ca\n",
    "from photutils.aperture import EllipticalAperture as ea\n",
    "from astropy.coordinates import Angle as ang\n",
    "from photutils.detection import DAOStarFinder as DAO\n",
    "from astropy.stats import sigma_clipped_stats as scs"
   ]
  },
  {
   "cell_type": "code",
   "execution_count": 2,
   "metadata": {},
   "outputs": [],
   "source": [
    "def read_data_file(filename):\n",
    "    data = np.loadtxt(filename, delimiter=',')\n",
    "    x_in = data[:, 0]\n",
    "    y_in = data[:, 1]\n",
    "    x_out = data[:, 2]\n",
    "    y_out = data[:, 3]\n",
    "    return x_in, y_in, x_out, y_out"
   ]
  },
  {
   "cell_type": "code",
   "execution_count": 3,
   "metadata": {},
   "outputs": [],
   "source": [
    "def custom_legendre(x_coeffs, y_coeffs, x, y, order):\n",
    "    import numpy as np\n",
    "    from numpy.polynomial import legendre\n",
    "    x_terms = legendre.legval2d(x, y, x_coeffs)\n",
    "    y_terms = legendre.legval2d(x, y, y_coeffs)\n",
    "    return np.array(x_terms), np.array(y_terms)"
   ]
  },
  {
   "cell_type": "code",
   "execution_count": 4,
   "metadata": {},
   "outputs": [],
   "source": [
    "def residual(coeffs, x_in, y_in, x_out, y_out, order):\n",
    "    coeffs = coeffs.reshape(2, order, order)\n",
    "\n",
    "    x_coeffs = coeffs[0, :, :]\n",
    "    y_coeffs = coeffs[1, :, :]\n",
    "    fitted_x_terms, fitted_y_terms = custom_legendre(x_coeffs, y_coeffs, x_in, y_in, order)\n",
    "    residuals = np.concatenate((fitted_x_terms - x_out, fitted_y_terms - y_out))\n",
    "    return residuals"
   ]
  },
  {
   "cell_type": "code",
   "execution_count": 5,
   "metadata": {
    "scrolled": true
   },
   "outputs": [
    {
     "name": "stdout",
     "output_type": "stream",
     "text": [
      "Iteration 1\n",
      "RMS of the transformation: 2.390815208716261\n",
      "Number of outliers removed: 2\n",
      "Coefficients: [[[ 1.70629174e+03 -3.41486219e-01 -1.54711695e-05]\n",
      "  [-8.80904434e-01 -9.22682365e-05  3.52923605e-08]\n",
      "  [-1.17626291e-05  3.27223148e-08 -1.25536023e-11]]\n",
      "\n",
      " [[ 1.15238232e+03 -9.30788604e-01  8.63054583e-06]\n",
      "  [ 3.70383996e-01  4.65359588e-05 -2.38298346e-08]\n",
      "  [ 5.31705771e-06 -1.92177807e-08  9.49009866e-12]]]\n",
      "Iteration 2\n",
      "RMS of the transformation: 0.6640118688349077\n",
      "Number of outliers removed: 5\n",
      "Coefficients: [[[ 1.72001250e+03 -3.82191153e-01  5.83542551e-07]\n",
      "  [-9.10890126e-01 -3.10274676e-06 -1.44684916e-10]\n",
      "  [-1.06118763e-06  1.37193828e-09 -7.72059984e-14]]\n",
      "\n",
      " [[ 1.14202750e+03 -9.01714693e-01 -3.95057764e-06]\n",
      "  [ 3.96688543e-01 -3.07210410e-05  1.04499230e-08]\n",
      "  [-5.14322274e-06  1.12941060e-08 -3.96988628e-12]]]\n",
      "Iteration 3\n",
      "RMS of the transformation: 0.42070336002841796\n",
      "Number of outliers removed: 7\n",
      "Coefficients: [[[ 1.72140002e+03 -3.85881369e-01  2.08562261e-06]\n",
      "  [-9.15413197e-01  9.42807759e-06 -5.36109162e-09]\n",
      "  [ 8.77181164e-07 -4.09641209e-09  2.22345676e-12]]\n",
      "\n",
      " [[ 1.14354194e+03 -9.06080956e-01 -2.08197128e-06]\n",
      "  [ 3.91711171e-01 -1.57837830e-05  3.89159093e-09]\n",
      "  [-2.95129710e-06  4.67895322e-09 -1.04932514e-12]]]\n",
      "Iteration 4\n",
      "RMS of the transformation: 0.24587127089515373\n",
      "Number of outliers removed: 3\n",
      "Coefficients: [[[ 1.72108350e+03 -3.84764422e-01  1.38409343e-06]\n",
      "  [-9.13881773e-01  3.98358421e-06 -2.56263026e-09]\n",
      "  [ 2.43209079e-08 -1.31521975e-09  9.04944002e-13]]\n",
      "\n",
      " [[ 1.14430660e+03 -9.06235672e-01 -2.55748004e-06]\n",
      "  [ 3.91276591e-01 -1.89166729e-05  6.36097483e-09]\n",
      "  [-3.21181487e-06  6.76973961e-09 -2.29587891e-12]]]\n",
      "Iteration 5\n",
      "RMS of the transformation: 0.1922433159432408\n",
      "Number of outliers removed: 0\n",
      "Coefficients: [[[ 1.72121192e+03 -3.85010524e-01  1.42419081e-06]\n",
      "  [-9.14276457e-01  4.78073835e-06 -2.70089688e-09]\n",
      "  [ 1.61517599e-07 -1.58611942e-09  9.43132692e-13]]\n",
      "\n",
      " [[ 1.14483471e+03 -9.07208917e-01 -2.26635354e-06]\n",
      "  [ 3.90074131e-01 -1.67836160e-05  5.74437559e-09]\n",
      "  [-2.82494888e-06  6.09380244e-09 -2.10307861e-12]]]\n"
     ]
    }
   ],
   "source": [
    "input_filename = '2023cj.in'\n",
    "output_filename = '2023cj.out'\n",
    "\n",
    "# Read input data\n",
    "x_in, y_in, x_out, y_out = read_data_file(input_filename)\n",
    "\n",
    "# Parameters\n",
    "order = 3\n",
    "max_iters = 10\n",
    "outlier_threshold = 3.0\n",
    "\n",
    "for iteration in range(max_iters):\n",
    "    # Perform outlier rejection using least squares optimization\n",
    "    initial_coeffs = np.ones(2 * order * order) # Coefficients for both x and y terms\n",
    "    result = least_squares(residual, initial_coeffs, args=(x_in, y_in, x_out, y_out, order))\n",
    "    final_coeffs = result.x\n",
    "    final_coeffs = final_coeffs.reshape(2, order, order)\n",
    "\n",
    "    final_x_coeffs = final_coeffs[0, :, :]\n",
    "    final_y_coeffs = final_coeffs[1, :, :]\n",
    "\n",
    "    \n",
    "    # Calculate residuals using the final coefficients and fitted values\n",
    "    fitted_x, fitted_y = custom_legendre(final_x_coeffs, final_y_coeffs, x_in, y_in, order)\n",
    "    residuals_x = fitted_x - x_out\n",
    "    residuals_y = fitted_y - y_out\n",
    "\n",
    "    # Calculate RMS of the transformation\n",
    "    combined_residuals = np.sqrt(residuals_x**2 + residuals_y**2)\n",
    "    rms = np.sqrt(np.mean(combined_residuals ** 2))\n",
    "\n",
    "    # Count and display number of outliers removed\n",
    "    num_outliers_removed = np.sum(combined_residuals >= outlier_threshold * rms)\n",
    "\n",
    "    # Print iteration details\n",
    "    print(f\"Iteration {iteration+1}\")\n",
    "    print(f\"RMS of the transformation: {rms}\")\n",
    "    print(\"Number of outliers removed:\", num_outliers_removed)\n",
    "    print(\"Coefficients:\", final_coeffs)\n",
    "\n",
    "    # Break the loop if no outliers were removed\n",
    "    if num_outliers_removed == 0:\n",
    "        break\n",
    "\n",
    "    # Update the data for the next iteration\n",
    "    x_in = x_in[combined_residuals < outlier_threshold * rms]\n",
    "    y_in = y_in[combined_residuals < outlier_threshold * rms]\n",
    "    x_out = x_out[combined_residuals < outlier_threshold * rms]\n",
    "    y_out = y_out[combined_residuals < outlier_threshold * rms]"
   ]
  },
  {
   "cell_type": "code",
   "execution_count": 6,
   "metadata": {
    "scrolled": false
   },
   "outputs": [
    {
     "data": {
      "image/png": "[encoded data removed]",
      "text/plain": [
       "<Figure size 864x432 with 2 Axes>"
      ]
     },
     "metadata": {
      "needs_background": "light"
     },
     "output_type": "display_data"
    }
   ],
   "source": [
    "# Plot residuals as functions of x_in and y_in\n",
    "plt.figure(figsize=(12, 6))\n",
    "\n",
    "plt.subplot(1, 2, 1)\n",
    "plt.scatter(x_in, residuals_x, c='b', marker='o', label='x_out Residuals')\n",
    "plt.axhline(y=0, color='r', linestyle='--', label='Zero Residual')\n",
    "plt.xlabel('x_in')\n",
    "plt.ylabel('x_out Residuals')\n",
    "plt.title('Residuals of x_out as a Function of x_in')\n",
    "plt.legend()\n",
    "\n",
    "plt.subplot(1, 2, 2)\n",
    "plt.scatter(y_in, residuals_y, c='g', marker='s', label='y_out Residuals')\n",
    "plt.axhline(y=0, color='r', linestyle='--', label='Zero Residual')\n",
    "plt.xlabel('y_in')\n",
    "plt.ylabel('y_out Residuals')\n",
    "plt.title('Residuals of y_out as a Function of y_in')\n",
    "plt.legend()\n",
    "plt.savefig('residuals_x-out_y-out.png', dpi = 500, format = 'png')\n",
    "\n",
    "plt.tight_layout()\n",
    "plt.show()"
   ]
  },
  {
   "cell_type": "code",
   "execution_count": 7,
   "metadata": {},
   "outputs": [
    {
     "name": "stdout",
     "output_type": "stream",
     "text": [
      "969.697 88.67 -0.0039979595222803255 0.05471869775806226\n",
      "997.513 93.453 -0.10081911209476857 0.09562343047468858\n",
      "874.177 95.46 0.3648669831910638 -0.3818504175308135\n",
      "866.045 97.731 0.053951441343087936 -0.019801398987283392\n",
      "879.37 98.983 -0.10939415510370054 0.019022911182219104\n",
      "1053.055 101.256 -0.05153301446773639 0.1180365180937315\n",
      "1009.741 113.684 -0.2703029422769987 -0.13192144779145565\n",
      "1002.406 114.787 0.059358450505442306 0.1572137509986078\n",
      "829.075 115.701 0.13913204954667435 0.30135520872204324\n",
      "784.506 121.91 -0.05833154005324559 0.05276090963798197\n",
      "854.258 122.78 0.21578573470958418 0.20656238249989656\n",
      "929.216 190.384 -0.03300530416993297 -0.10265016338280475\n",
      "763.473 249.899 -0.01694033841374676 -0.0951921345563278\n",
      "814.425 426.538 0.12447791674946984 -0.278934838713667\n",
      "827.763 435.41 -0.13959576184606703 -0.1896702296278363\n",
      "981.52 447.865 -0.1250690205894216 -0.11997186654275538\n",
      "799.618 461.259 -0.035096624230277484 -0.3562248791554339\n",
      "792.641 464.223 -0.1267384685476145 -0.03125179416588253\n",
      "454.242 481.638 -0.25083175034274063 -0.22552714510516125\n",
      "394.626 512.373 0.20506439706241508 0.41039026625185215\n",
      "929.36 516.221 -0.09716776394475346 0.037236127722053425\n",
      "723.777 570.063 0.06692246773957322 0.22353587175257417\n",
      "1445.798 573.053 -0.11848836461686574 0.005987252564636947\n",
      "1439.923 578.715 0.4264972997979726 -0.15782110927943904\n",
      "471.084 604.267 -0.14752099110637573 0.09315079584598607\n",
      "888.409 633.58 -0.09597063966668884 -0.03695769001433291\n",
      "996.837 636.938 -0.030450497486640415 0.27239830077576244\n",
      "576.134 638.397 -0.17432754531853334 -0.023808781500520126\n",
      "1028.357 640.103 -0.05568039970330574 0.10687705742748221\n",
      "811.565 643.861 -0.023392925023699718 -0.09622168807732123\n",
      "347.646 648.988 -0.0759740515318299 -0.21917168729419245\n",
      "1438.44 649.454 -0.030180692095854056 0.02198680976562173\n",
      "1462.393 683.148 -0.03949242616354809 0.00670041890975881\n",
      "654.626 714.124 -0.0401314352963027 0.2108438255947931\n",
      "911.053 715.745 0.16220848074362948 0.09451472424825624\n",
      "1349.209 762.858 0.02447230633239883 -0.07379276577660221\n",
      "392.121 781.944 0.03967209496090618 -0.00286092498402013\n",
      "408.141 788.733 0.003693249658908826 -0.05286501821888123\n",
      "1332.193 797.758 -0.23116828600763029 0.048961777951603835\n",
      "817.723 799.629 0.22530570297362829 0.0767502425726434\n",
      "608.108 800.471 0.0488470776616623 -0.17761765875343372\n",
      "1331.123 821.158 -0.029251986348555192 -0.020462868314552907\n",
      "868.872 826.243 0.06036536915519264 0.11134921635800765\n",
      "414.16 831.914 0.15192162217022087 0.01211016118054431\n",
      "577.486 834.726 -0.13578245379937925 0.016020930746662998\n",
      "1326.449 837.336 0.03645838213009256 0.06688552520517987\n",
      "706.203 837.927 0.029176462833902406 -0.21011244939927565\n",
      "777.286 858.076 -0.06080727438234135 0.28945334493209884\n",
      "668.118 860.926 0.006743618431642062 0.1685292985534943\n",
      "795.342 875.951 -0.005547787197542675 -0.2007334771656133\n",
      "481.13 886.241 0.035199144616285594 0.010906677249522545\n",
      "581.262 890.757 0.09347844705200714 0.00471277071210352\n",
      "1439.155 903.933 0.007124099279124607 0.0024261940109227\n",
      "722.394 911.721 -0.12641899193260997 -0.1662269406268706\n",
      "808.306 917.822 0.13289033131843553 -0.3829568698853336\n",
      "747.896 918.623 -0.06627741258137121 -0.019896510870125894\n",
      "895.911 920.853 0.009556412797564917 -0.17552811858467976\n",
      "1318.737 941.997 0.1860870021049834 -0.002218514231572044\n",
      "1329.271 950.874 0.0002020363827739402 0.05455845112578572\n",
      "1322.832 951.522 -0.1642076332396698 -0.049775680541870315\n",
      "1316.521 955.071 -0.1565461328828519 -0.09152804067298348\n",
      "580.491 963.081 0.016964030669669228 0.15028766094320645\n",
      "818.085 965.434 0.017261783046933488 0.0993406596380737\n",
      "827.252 993.907 0.020692123334129064 0.16007700044144713\n",
      "1456.096 997.364 -0.014081766221945458 -0.10365716983960738\n",
      "807.258 998.858 0.10230214214641364 -0.10489972595053132\n",
      "1187.587 1013.099 0.16365750605771723 0.41727895770532086\n",
      "807.446 1019.867 0.06091679883422785 0.11894232206998367\n",
      "816.904 1020.281 0.11807348751437985 0.1603127441101151\n",
      "372.28 1040.936 0.06093198699625191 -0.03685111634212035\n",
      "1407.563 1054.788 -0.10349947851256047 -0.009989041818130318\n",
      "953.66 1060.474 -0.08114173583970796 0.07292499340474023\n",
      "511.352 1062.66 0.12918586910620888 -0.0355163571518915\n",
      "929.289 1065.917 -0.04993227513665488 -0.1559673161336832\n",
      "844.682 1069.358 -0.01213469396225264 -0.07744395298425388\n",
      "489.369 1077.894 0.1534829305569474 0.22823995999317503\n",
      "913.437 1095.976 0.05990276913183834 0.11981272296458201\n",
      "1121.506 1106.34 0.02402639473450563 -0.20981834922770304\n",
      "1263.414 1109.615 0.09034371422259824 0.10646254229322949\n",
      "406.249 1129.036 -0.00768208968838735 0.10034206955776881\n",
      "221.809 1136.03 -0.0697125137387502 0.04517263146161099\n",
      "603.906 1155.516 -0.02913748857599785 -0.14534561043842587\n",
      "800.252 1160.954 0.21091176078175522 -0.031683821164961046\n",
      "840.243 1168.301 -0.021562483302716373 0.06486045655395856\n",
      "866.651 1173.919 0.04700979387399684 0.1528528141307106\n",
      "1003.323 1192.825 0.04918410687116648 -0.029502213912792286\n",
      "620.368 1196.277 0.067811534196494 -0.05246800411464392\n",
      "616.972 1202.039 -0.18236861377420155 0.2841013014163991\n",
      "874.022 1204.214 0.17410861641354813 0.19550003291828943\n",
      "599.047 1204.546 -0.11816098430597322 0.0774143703356458\n",
      "1348.322 1205.574 -0.0030940692951837434 0.03481445537863692\n",
      "562.915 1217.303 -0.08287019048259481 -0.20244666534500766\n",
      "636.373 1216.132 -0.11984645229040325 -0.08999143706279256\n",
      "740.125 1220.373 -0.022957609860441153 -0.3175320707624678\n",
      "885.443 1227.182 -0.017714601212446723 -0.09889458877000834\n",
      "547.88 1228.505 0.09546711128598417 0.08349712915807572\n",
      "861.393 1230.826 -0.10393013115373151 -0.1380196023164899\n",
      "226.836 1231.666 0.0903677736885129 -0.1170620084197651\n",
      "681.63 1232.343 -0.1234163714547094 -0.20398888544440297\n",
      "883.537 1249.249 -0.12054870132766382 0.014887662869398355\n",
      "944.805 1248.816 0.05372708138577309 0.18006890116475915\n",
      "682.394 1252.102 0.1692433153843922 0.0059118208619679535\n",
      "902.006 1252.441 -0.21030669653038103 0.06736414946266223\n",
      "293.746 1279.724 -0.10052098342293903 0.1669977895406305\n",
      "653.139 1340.738 -0.24207094362634507 -0.10106598795934474\n",
      "1039.368 1341.92 0.11288799262990779 -0.015891823844697228\n",
      "605.696 1342.636 -0.056981442399433035 -0.07784596628175677\n",
      "509.442 1345.356 -0.027543906640289606 -0.10915529085139042\n",
      "630.946 1345.816 -0.18764749271940673 -0.04943100519477639\n",
      "660.351 1349.772 0.18143707497995365 0.1846198722629424\n",
      "1097.209 1349.976 0.016812314065958844 0.10589386678839219\n",
      "604.065 1382.739 0.06748342428443266 -0.06767065396658722\n",
      "602.534 1424.628 -0.027354728102068293 0.10169094682409252\n",
      "1070.621 1434.951 -0.04479863961222463 -0.0060638348490442695\n",
      "466.077 1441.241 0.1686092101426766 -0.06383676789390336\n",
      "685.239 1474.731 -0.062056566697265225 0.09740089437076449\n",
      "1138.503 1476.154 0.13782650983281997 -0.08579056097926241\n",
      "1112.366 1485.126 0.029656547678143852 0.14800326756605386\n",
      "1145.463 1491.02 -0.0865525892404122 0.007064866154337324\n",
      "1128.229 1492.134 -0.055266228165024245 -0.1398916711982281\n",
      "1123.541 1495.95 0.011586640746102717 -0.13244620394732465\n"
     ]
    }
   ],
   "source": [
    "for i in range(len(x_in)):\n",
    "    print(x_in[i], y_in[i], residuals_x[i], residuals_y[i])"
   ]
  },
  {
   "cell_type": "code",
   "execution_count": 8,
   "metadata": {},
   "outputs": [
    {
     "name": "stdout",
     "output_type": "stream",
     "text": [
      "121\n",
      "0.1922433159432408\n"
     ]
    }
   ],
   "source": [
    "print(len(x_in))\n",
    "print(rms)"
   ]
  },
  {
   "cell_type": "code",
   "execution_count": 9,
   "metadata": {},
   "outputs": [],
   "source": [
    "# Write retained points to a file\n",
    "data = np.column_stack((x_in, y_in, x_out, y_out))  # Stack input and output coordinates\n",
    "np.savetxt(output_filename, data, delimiter=',', header=\"x_in,y_in,x_out,y_out\", comments='')"
   ]
  },
  {
   "cell_type": "code",
   "execution_count": 10,
   "metadata": {},
   "outputs": [
    {
     "name": "stdout",
     "output_type": "stream",
     "text": [
      "(array(747.69491088), array(749.67102569))\n"
     ]
    }
   ],
   "source": [
    "#SN in = 813.68102 789.18635\n",
    "#SN out = 719.3415020310174 778.6999148972727\n",
    "sn_pos = [751.134,750.004]\n",
    "sn_out = custom_legendre(final_x_coeffs, final_y_coeffs, sn_pos[0], sn_pos[1], order)\n",
    "print(sn_out)"
   ]
  },
  {
   "cell_type": "code",
   "execution_count": 11,
   "metadata": {},
   "outputs": [],
   "source": [
    "# SN Pos in ra/dec\n",
    "# RA: 14:06:32.5593\n",
    "# Dec: -5:27:06.268"
   ]
  },
  {
   "cell_type": "code",
   "execution_count": 12,
   "metadata": {},
   "outputs": [
    {
     "name": "stderr",
     "output_type": "stream",
     "text": [
      "WARNING: Input data contains invalid values (NaNs or infs), which were automatically clipped. [astropy.stats.sigma_clipping]\n"
     ]
    }
   ],
   "source": [
    "pre_x, pre_y = 747.69491088, 749.67102569\n",
    "pre_ex = fits.open('wfc3.f350lp.ref_0001.drz_cropped.fits')\n",
    "pre_data = pre_ex[0]\n",
    "img1 = pre_data.data\n",
    "mean, median, std = scs(img1)"
   ]
  },
  {
   "cell_type": "code",
   "execution_count": 13,
   "metadata": {},
   "outputs": [
    {
     "name": "stdout",
     "output_type": "stream",
     "text": [
      " id xcentroid ycentroid sharpness roundness1 ... sky     peak   flux  mag \n",
      "--- --------- --------- --------- ---------- ... ---- --------- ---- -----\n",
      "  1     40.11      3.30      0.57       0.02 ... 0.00 111460.93 9.94 -2.49\n",
      "  2    949.94      7.25      0.57       0.01 ... 0.00  13552.51 1.16 -0.16\n",
      "  3    744.02      9.01      0.61      -0.14 ... 0.00  33247.41 2.83 -1.13\n",
      "  4    940.15     12.06      0.60       0.25 ... 0.00  13861.39 1.04 -0.04\n",
      "  5   1027.31     12.48      0.60       0.13 ... 0.00  11634.48 1.09 -0.09\n",
      "  6    689.79     13.58      0.55       0.19 ... 0.00  13093.08 1.01 -0.01\n",
      "  7   1011.97     16.69      0.52      -0.41 ... 0.00  19297.15 1.40 -0.37\n",
      "  8    562.03     36.72      0.44       0.15 ... 0.00  18768.99 1.29 -0.28\n",
      "  9    918.71     52.02      0.58      -0.54 ... 0.00  12874.89 1.14 -0.14\n",
      " 10    531.06     62.14      0.58      -0.28 ... 0.00  25452.36 2.27 -0.89\n",
      "...       ...       ...       ...        ... ...  ...       ...  ...   ...\n",
      "468    877.52   1397.71      0.57      -0.63 ... 0.00  53722.75 2.82 -1.13\n",
      "469    876.16   1400.40      0.47      -0.92 ... 0.00  36081.52 1.55 -0.47\n",
      "470    879.93   1399.81      0.52      -0.59 ... 0.00  45035.44 1.96 -0.73\n",
      "471    752.32   1422.39      0.59       0.31 ... 0.00  27627.70 2.13 -0.82\n",
      "472    761.00   1426.43      0.57       0.03 ... 0.00  71212.83 6.18 -1.98\n",
      "473    158.58   1430.47      0.58      -0.40 ... 0.00  15372.07 1.44 -0.40\n",
      "474    755.05   1430.52      0.56       0.47 ... 0.00  17331.11 1.34 -0.32\n",
      "475    800.95   1437.93      0.56      -0.17 ... 0.00  36526.38 3.20 -1.26\n",
      "476    773.80   1444.14      0.63      -0.11 ... 0.00  44340.29 4.02 -1.51\n",
      "477    720.01   1458.17      0.52       0.05 ... 0.00  56997.01 3.41 -1.33\n",
      "478    581.39   1489.54      0.57      -0.46 ... 0.00  10710.82 1.08 -0.08\n",
      "Length = 478 rows\n"
     ]
    }
   ],
   "source": [
    "# Getting the Positions of the sources found earlier for this\n",
    "\n",
    "pre_sources_astro= np.loadtxt('2023cj_pre_sources_matched.dat', usecols = (0, 1), ndmin= 2)\n",
    "\n",
    "# daopre = DAO(fwhm = 3.0, threshold = 5.0 * std, xycoords = pre_sources_astro)\n",
    "daopre = DAO(fwhm = 3.0, threshold = 5.0 * std)\n",
    "sources = daopre(img1-median)\n",
    "\n",
    "for col in sources.colnames:\n",
    "    if col not in ('id', 'npix'):\n",
    "        sources[col].info.format = '%.2f'\n",
    "        \n",
    "sources.pprint(max_width = 76)"
   ]
  },
  {
   "cell_type": "code",
   "execution_count": 14,
   "metadata": {},
   "outputs": [
    {
     "data": {
      "text/plain": [
       "(720.0, 780.0)"
      ]
     },
     "execution_count": 14,
     "metadata": {},
     "output_type": "execute_result"
    },
    {
     "data": {
      "image/png": "[encoded data removed]",
      "text/plain": [
       "<Figure size 432x288 with 1 Axes>"
      ]
     },
     "metadata": {
      "needs_background": "light"
     },
     "output_type": "display_data"
    }
   ],
   "source": [
    "# Plotting the Position + Any Sources nearby\n",
    "\n",
    "pos1 = np.transpose((sn_out))\n",
    "aps1 = ca(pos1, r = 3.0)\n",
    "\n",
    "pos_max = np.transpose((sources['xcentroid'], sources['ycentroid']))\n",
    "positions = ca(pos_max, r = 1.5)\n",
    "# Attempting to create an error ellipse using residuals_x, residuals_y values\n",
    "# Creating a covariance matrix with eigenvalues/vectors (for the semimaj/minor axes;got no idea what im doing :3)\n",
    "\n",
    "cov = np.cov(residuals_x, residuals_y)\n",
    "eig, vec = np.linalg.eig(cov)\n",
    "eig_true = np.sqrt(eig)\n",
    "angle = ang(0, 'deg')\n",
    "aps2 = ea(pos1,eig_true[1]*50,eig_true[0]*50, theta = angle)\n",
    "\n",
    "#Plotting Circular Radius + Error Ellipse + Any Nearby sources\n",
    "plt.imshow(img1, cmap = 'Greys', origin = 'lower', norm = LogNorm(), interpolation = 'nearest')\n",
    "\n",
    "aps1.plot(color = 'blue', lw = 1.0, alpha = 1.0)\n",
    "aps2.plot(color = 'red', lw = 1.0, alpha = 1.0)\n",
    "positions.plot(color = 'yellow', lw =1.0, alpha = 0.5)\n",
    "\n",
    "plt.xlim(720,780)\n",
    "plt.ylim(720,780)\n",
    "#plt.savefig('wfc3.f350lp.ref_0001.drz_cropped_sn_source.png', dpi = 500, format = 'png')\n"
   ]
  }
 ],
 "metadata": {
  "kernelspec": {
   "display_name": "Python 3",
   "language": "python",
   "name": "python3"
  },
  "language_info": {
   "codemirror_mode": {
    "name": "ipython",
    "version": 3
   },
   "file_extension": ".py",
   "mimetype": "text/x-python",
   "name": "python",
   "nbconvert_exporter": "python",
   "pygments_lexer": "ipython3",
   "version": "3.8.5"
  }
 },
 "nbformat": 4,
 "nbformat_minor": 5
}
